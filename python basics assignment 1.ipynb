{
 "cells": [
  {
   "cell_type": "code",
   "execution_count": 1,
   "id": "8acb3bb1",
   "metadata": {},
   "outputs": [],
   "source": [
    "#Q11. In the below elements which of them are values or an expression? eg:- values can be\n",
    "integer or string and expressions will be mathematical operators.\n",
    "*\n",
    "&#39;hello&#39;\n",
    "-87.8\n",
    "-\n",
    "/\n",
    "+\n",
    "6\n",
    "\n",
    "#####ANSWER\n",
    "#values are 'hello',-87.8,6\n",
    "##expression are *,-,/,+"
   ]
  },
  {
   "cell_type": "code",
   "execution_count": 4,
   "id": "335ba8c8",
   "metadata": {},
   "outputs": [],
   "source": [
    "#Q2. What is the difference between string and variable?\n",
    "\n",
    "###ANSWER\n",
    "# a variable stores information and a string is one of type of information which would be stored in variable "
   ]
  },
  {
   "cell_type": "code",
   "execution_count": 6,
   "id": "145fac70",
   "metadata": {},
   "outputs": [],
   "source": [
    "#Q3. Describe three different data types.\n",
    "\n",
    "###ANSWER\n",
    "# 1. Integers-this is represented by int class and contains positive and negative whole numbers \n",
    "# 2. Float - this value is represented by float class.it is specified by decimal point \n",
    "# 3. Boolean - this data type has two built in values True or False and represented by bool \n",
    "# 4. String - this is a sequences of character data and represented by str"
   ]
  },
  {
   "cell_type": "code",
   "execution_count": 7,
   "id": "e1a99bad",
   "metadata": {},
   "outputs": [],
   "source": [
    "#Q4. What is an expression made up of? What do all expressions do?\n",
    "\n",
    "###ANSWER\n",
    "#An expression is a combination of operators, constants and variables. An expression may consist of one or more operands, and zero or more operators to produce a value."
   ]
  },
  {
   "cell_type": "code",
   "execution_count": 8,
   "id": "17fe10ef",
   "metadata": {},
   "outputs": [],
   "source": [
    "#Q5. This assignment statements, like spam = 10. What is the difference between anexpression and a statement?\n",
    "\n",
    "###ANSWER\n",
    "#An Expression always evaluates to a value. And, A statement does something, like creating a variable or displaying a value, it only does whatever the statement says.\n",
    "#In the above statement spam has stored the value 10"
   ]
  },
  {
   "cell_type": "code",
   "execution_count": 10,
   "id": "66edbd3a",
   "metadata": {},
   "outputs": [],
   "source": [
    "#Q6. After running the following code, what does the variable bacon contaibacon = 22 bacon + 1\n",
    "\n",
    "###ANSWER\n",
    "\n",
    "23"
   ]
  },
  {
   "cell_type": "code",
   "execution_count": null,
   "id": "449e35e0",
   "metadata": {},
   "outputs": [],
   "source": [
    "#Q7. What should the values of the following two terms be?\n",
    "#'spam'+'spamspam'\n",
    "#'spam'*3\n",
    "\n",
    "###ANSWER \n",
    "'spamspamspam"
   ]
  },
  {
   "cell_type": "code",
   "execution_count": 12,
   "id": "f8de52cc",
   "metadata": {},
   "outputs": [],
   "source": [
    "#Q8. Why is eggs a valid variable name while 100 is invalid?\n",
    "\n",
    "#ANSWER\n",
    "#because variable name in python starts with character and not with integer"
   ]
  },
  {
   "cell_type": "code",
   "execution_count": 16,
   "id": "dc206b71",
   "metadata": {},
   "outputs": [],
   "source": [
    "#Q9. What three functions can be used to get the integer, floating-point number, or string version of a value?\n",
    "\n",
    "#ANSWER\n",
    "# function int() is to get integer version of given value,\n",
    "#float() is to get float version of given value and \n",
    "#str( ) is to get string version of given value"
   ]
  },
  {
   "cell_type": "code",
   "execution_count": 17,
   "id": "2748f306",
   "metadata": {},
   "outputs": [],
   "source": [
    "#Q10. Why does this expression cause an error? How can you fix it?\n",
    "#' have eaten' + 99 + 'urritos.\n",
    "\n",
    "\n",
    "###ANSWER\n",
    "#Because integer we cannot concatinate integer with string and string cannot be added to integer \n",
    "#to fix above error we shoulr conver type of 99 from integer to string \n",
    "#i.e ' have eaten' + '9' + 'urritos.'\n"
   ]
  },
  {
   "cell_type": "code",
   "execution_count": null,
   "id": "daad2f20",
   "metadata": {},
   "outputs": [],
   "source": []
  }
 ],
 "metadata": {
  "kernelspec": {
   "display_name": "Python 3 (ipykernel)",
   "language": "python",
   "name": "python3"
  },
  "language_info": {
   "codemirror_mode": {
    "name": "ipython",
    "version": 3
   },
   "file_extension": ".py",
   "mimetype": "text/x-python",
   "name": "python",
   "nbconvert_exporter": "python",
   "pygments_lexer": "ipython3",
   "version": "3.9.12"
  }
 },
 "nbformat": 4,
 "nbformat_minor": 5
}
